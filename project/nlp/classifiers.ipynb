{
 "cells": [
  {
   "cell_type": "markdown",
   "metadata": {},
   "source": [
    "# Classifiers\n",
    "- Naive Bayes\n",
    "- Support Vector Machine (SVM)\n",
    "- Logistic Regression\n",
    "- K-Nearest Neighbors (KNN)\n",
    "- Decision Trees\n",
    "- Random Forests\n",
    "- Gradient Boosting Machines (GBM)\n",
    "- AdaBoost\n",
    "- XGBoost\n",
    "- LightGBM\n",
    "- CatBoost\n",
    "- Multilayer Perceptron (MLP)\n",
    "- Linear Discriminant Analysis (LDA)\n",
    "- Quadratic Discriminant Analysis (QDA)\n",
    "- Stochastic Gradient Descent (SGD) Classifier\n",
    "- Perceptron\n",
    "- Passive Aggressive Classifier\n",
    "- Voting Classifier\n",
    "- Bagging Classifier\n",
    "- Multinomial Naive Bayes\n",
    "- Bernoulli Naive Bayes\n",
    "- Complement Naive Bayes\n",
    "- Maximum Entropy (MaxEnt)"
   ]
  },
  {
   "cell_type": "markdown",
   "metadata": {},
   "source": [
    "#"
   ]
  },
  {
   "cell_type": "markdown",
   "metadata": {},
   "source": [
    "#### Naive Bayes"
   ]
  },
  {
   "cell_type": "code",
   "execution_count": null,
   "metadata": {
    "vscode": {
     "languageId": "plaintext"
    }
   },
   "outputs": [],
   "source": []
  },
  {
   "cell_type": "markdown",
   "metadata": {},
   "source": [
    "#### Support Vector Machine (SVM)"
   ]
  },
  {
   "cell_type": "code",
   "execution_count": null,
   "metadata": {
    "vscode": {
     "languageId": "plaintext"
    }
   },
   "outputs": [],
   "source": []
  }
 ],
 "metadata": {
  "language_info": {
   "name": "python"
  }
 },
 "nbformat": 4,
 "nbformat_minor": 2
}
