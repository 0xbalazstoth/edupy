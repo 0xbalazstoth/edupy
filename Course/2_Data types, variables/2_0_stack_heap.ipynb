{
 "cells": [
  {
   "cell_type": "markdown",
   "metadata": {},
   "source": [
    "# Stack (verem) és heap (kupac)\n",
    "![Stack_heap](https://www.rusoaica.com/wp-content/uploads/img_5b73d7f592aa2.png)\n",
    "\n",
    "- Memória szervezés:\n",
    "    - Stack: LIFO (Last In, First Out) elv alapján működik. Az adatokat az utolsó beillesztett elem kerül elsőként eltávolításra.\n",
    "    - Heap: Szabad memóriahalom, ahol az adatok dinamikusan kerülnek elhelyezésre és törlésre, nincs meghatározott sorrend.\n",
    "\n",
    "- Memória kezelése:\n",
    "    - Stack: Az adatok automatikusan kerülnek fel és le a stack-ről, amikor egy függvény meghívódik vagy visszatér. Ez gyors, de korlátozott méretű.\n",
    "    - Heap: A memóriakezelés manuálisan történik (például malloc és free C-ben, new és delete C++-ban). Nagyobb méretű, de lassabb hozzáférésű és fragmentációra hajlamos.\n",
    "\n",
    "- Élettartam:\n",
    "    - Stack: Az adatok élettartama a függvény végrehajtási idejéhez kötött. A függvény visszatérésekor az összes helyi változó törlődik.\n",
    "    - Heap: Az adatok élettartama addig tart, amíg explicit módon fel nem szabadítják (deallocation). A programozónak kell gondoskodnia a felszabadításról.\n",
    "\n",
    "- Teljesítmény:\n",
    "    - Stack: Gyorsabb memória hozzáférés és kezelés a jól strukturált szervezet miatt.\n",
    "    - Heap: Lassabb, mivel a dinamikus memória allokáció és felszabadítás időigényesebb."
   ]
  }
 ],
 "metadata": {
  "language_info": {
   "name": "python"
  }
 },
 "nbformat": 4,
 "nbformat_minor": 2
}
